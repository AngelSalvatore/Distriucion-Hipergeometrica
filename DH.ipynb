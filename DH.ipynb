{
  "cells": [
    {
      "metadata": {
        "collapsed": true,
        "trusted": false
      },
      "cell_type": "code",
      "source": "x = int(input(\"Ingresa el total de elementos de entrada\"))\nn = int(input(\"Ingresa el número de elentos\"))\np = int(input(\"Ingresa las probabilidades de éxito\"))\nq = int(input(\"Ingresa las probabilidades de fracaso\"))\n\nz=(x-n*p)/((n*p*q)**1/2)\nprint(z)",
      "execution_count": null,
      "outputs": []
    }
  ],
  "metadata": {
    "kernelspec": {
      "name": "python36",
      "display_name": "Python 3.6",
      "language": "python"
    },
    "language_info": {
      "mimetype": "text/x-python",
      "nbconvert_exporter": "python",
      "name": "python",
      "pygments_lexer": "ipython3",
      "version": "3.6.6",
      "file_extension": ".py",
      "codemirror_mode": {
        "version": 3,
        "name": "ipython"
      }
    }
  },
  "nbformat": 4,
  "nbformat_minor": 2
}
